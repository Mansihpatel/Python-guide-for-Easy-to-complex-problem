{
  "nbformat": 4,
  "nbformat_minor": 0,
  "metadata": {
    "colab": {
      "name": "Python Easy to Complex method Learn.ipynb",
      "provenance": []
    },
    "kernelspec": {
      "name": "python3",
      "display_name": "Python 3"
    }
  },
  "cells": [
    {
      "cell_type": "markdown",
      "metadata": {
        "id": "M3672cgqGvEF",
        "colab_type": "text"
      },
      "source": [
        "### 1. Input and Output"
      ]
    },
    {
      "cell_type": "code",
      "metadata": {
        "id": "rpUrHjP-GdPf",
        "colab_type": "code",
        "colab": {
          "base_uri": "https://localhost:8080/",
          "height": 51
        },
        "outputId": "c57a623e-06f2-4e18-d263-fba09049bc2b"
      },
      "source": [
        "# This input is take string as input and return string as output\n",
        "weight = input(\"Please input your weight:\")65\n",
        "weight"
      ],
      "execution_count": 1,
      "outputs": [
        {
          "output_type": "stream",
          "text": [
            "Please input your weight:65\n"
          ],
          "name": "stdout"
        },
        {
          "output_type": "execute_result",
          "data": {
            "text/plain": [
              "'65'"
            ]
          },
          "metadata": {
            "tags": []
          },
          "execution_count": 1
        }
      ]
    },
    {
      "cell_type": "code",
      "metadata": {
        "id": "Dh9nD5SjG5qS",
        "colab_type": "code",
        "colab": {
          "base_uri": "https://localhost:8080/",
          "height": 51
        },
        "outputId": "bbe407d7-d2cb-4f82-f521-281ee07c7c95"
      },
      "source": [
        "# This input take string as input and we convert into float value with help of float function(type casting)\n",
        "weight = float(input(\"Please input your weight:\"))\n",
        "weight"
      ],
      "execution_count": 2,
      "outputs": [
        {
          "output_type": "stream",
          "text": [
            "Please input your weight:65\n"
          ],
          "name": "stdout"
        },
        {
          "output_type": "execute_result",
          "data": {
            "text/plain": [
              "65.0"
            ]
          },
          "metadata": {
            "tags": []
          },
          "execution_count": 2
        }
      ]
    },
    {
      "cell_type": "code",
      "metadata": {
        "id": "E5JVITl6HCJV",
        "colab_type": "code",
        "colab": {
          "base_uri": "https://localhost:8080/",
          "height": 51
        },
        "outputId": "1e8b6104-2079-413b-b9b9-b56212af8a74"
      },
      "source": [
        "# eval is a built-in- function used in python, eval function parses the expression argument and evaluates it as a python expression.\n",
        "age = eval(input(\"Please input your Age:\"))\n",
        "age"
      ],
      "execution_count": 3,
      "outputs": [
        {
          "output_type": "stream",
          "text": [
            "Please input your Age:2020-1990\n"
          ],
          "name": "stdout"
        },
        {
          "output_type": "execute_result",
          "data": {
            "text/plain": [
              "30"
            ]
          },
          "metadata": {
            "tags": []
          },
          "execution_count": 3
        }
      ]
    },
    {
      "cell_type": "code",
      "metadata": {
        "id": "sEoiJcx7HQGo",
        "colab_type": "code",
        "colab": {
          "base_uri": "https://localhost:8080/",
          "height": 34
        },
        "outputId": "f96ee481-2d5a-48db-d385-d15c0161e9e0"
      },
      "source": [
        "print(\"Your weight is:\", weight)"
      ],
      "execution_count": 4,
      "outputs": [
        {
          "output_type": "stream",
          "text": [
            "Your weight is: 65.0\n"
          ],
          "name": "stdout"
        }
      ]
    },
    {
      "cell_type": "markdown",
      "metadata": {
        "id": "DLexeaEoNBEI",
        "colab_type": "text"
      },
      "source": [
        "### 2. Module"
      ]
    },
    {
      "cell_type": "code",
      "metadata": {
        "id": "Sqm0HxHYM_ja",
        "colab_type": "code",
        "colab": {
          "base_uri": "https://localhost:8080/",
          "height": 34
        },
        "outputId": "271e5ea9-db80-4026-8418-342576d54a4c"
      },
      "source": [
        "import datetime\n",
        "i = datetime.datetime.now()\n",
        "print(\"Today Date: %s\" %i)"
      ],
      "execution_count": 5,
      "outputs": [
        {
          "output_type": "stream",
          "text": [
            "Today Date: 2020-04-05 12:03:45.737528\n"
          ],
          "name": "stdout"
        }
      ]
    },
    {
      "cell_type": "code",
      "metadata": {
        "id": "GU_x-BgMHgbZ",
        "colab_type": "code",
        "colab": {
          "base_uri": "https://localhost:8080/",
          "height": 34
        },
        "outputId": "4968b5d8-eb6e-49f6-98f9-8a736e7a5e5a"
      },
      "source": [
        "# import datetime function from module from datetime\n",
        "from datetime import datetime\n",
        "i = datetime.now()\n",
        "print(\"Today Date: %s\" %i)"
      ],
      "execution_count": 6,
      "outputs": [
        {
          "output_type": "stream",
          "text": [
            "Today Date: 2020-04-05 12:03:45.749612\n"
          ],
          "name": "stdout"
        }
      ]
    },
    {
      "cell_type": "code",
      "metadata": {
        "id": "YdcWSn0XNixg",
        "colab_type": "code",
        "colab": {
          "base_uri": "https://localhost:8080/",
          "height": 34
        },
        "outputId": "05de5951-b747-4473-8b65-3604bf14d39e"
      },
      "source": [
        "# import all module from datetime\n",
        "from datetime import *\n",
        "i = datetime.now()\n",
        "print(\"Today Date: %s\" %i)"
      ],
      "execution_count": 7,
      "outputs": [
        {
          "output_type": "stream",
          "text": [
            "Today Date: 2020-04-05 12:03:45.760244\n"
          ],
          "name": "stdout"
        }
      ]
    },
    {
      "cell_type": "code",
      "metadata": {
        "id": "7nb4pCXsNoC-",
        "colab_type": "code",
        "colab": {
          "base_uri": "https://localhost:8080/",
          "height": 34
        },
        "outputId": "e31c84cf-8e3a-4e6d-d913-b004d26a735c"
      },
      "source": [
        "# assign alias for datetime module\n",
        "import datetime as dt\n",
        "i = dt.datetime.now()\n",
        "print(\"Today Date: %s\" %i)"
      ],
      "execution_count": 8,
      "outputs": [
        {
          "output_type": "stream",
          "text": [
            "Today Date: 2020-04-05 12:03:45.771080\n"
          ],
          "name": "stdout"
        }
      ]
    },
    {
      "cell_type": "code",
      "metadata": {
        "id": "enmXF3kMNsYM",
        "colab_type": "code",
        "colab": {
          "base_uri": "https://localhost:8080/",
          "height": 34
        },
        "outputId": "91768600-063c-413a-cd9e-3b720e9ac58d"
      },
      "source": [
        "# This is single line comment\n",
        "\n",
        "'''\n",
        "Three inverted comma represent multiline comments\n",
        "\n",
        "'''"
      ],
      "execution_count": 9,
      "outputs": [
        {
          "output_type": "execute_result",
          "data": {
            "text/plain": [
              "'\\nThree inverted comma represent multiline comments\\n\\n'"
            ]
          },
          "metadata": {
            "tags": []
          },
          "execution_count": 9
        }
      ]
    },
    {
      "cell_type": "code",
      "metadata": {
        "id": "eqHVcBkeSswt",
        "colab_type": "code",
        "colab": {
          "base_uri": "https://localhost:8080/",
          "height": 34
        },
        "outputId": "e75ec53a-d194-4ffa-e569-fc179a6cd08c"
      },
      "source": [
        "total = 1 + 2 + \\\n",
        "3 + 4 + \\\n",
        "5 \n",
        "\n",
        "total"
      ],
      "execution_count": 10,
      "outputs": [
        {
          "output_type": "execute_result",
          "data": {
            "text/plain": [
              "15"
            ]
          },
          "metadata": {
            "tags": []
          },
          "execution_count": 10
        }
      ]
    },
    {
      "cell_type": "code",
      "metadata": {
        "id": "UfhqZuyITB7J",
        "colab_type": "code",
        "colab": {
          "base_uri": "https://localhost:8080/",
          "height": 136
        },
        "outputId": "fff28807-09c8-48d9-a06f-ac2d64bb2423"
      },
      "source": [
        "data = [\"Monday\", \" Tuesday\", \"Wednesday\",\n",
        "        \"Thursday\", \"Friday\",\n",
        "        \"Saturday\",\" Sunday\"]\n",
        "data"
      ],
      "execution_count": 11,
      "outputs": [
        {
          "output_type": "execute_result",
          "data": {
            "text/plain": [
              "['Monday',\n",
              " ' Tuesday',\n",
              " 'Wednesday',\n",
              " 'Thursday',\n",
              " 'Friday',\n",
              " 'Saturday',\n",
              " ' Sunday']"
            ]
          },
          "metadata": {
            "tags": []
          },
          "execution_count": 11
        }
      ]
    },
    {
      "cell_type": "code",
      "metadata": {
        "id": "W-gNMgDITh0t",
        "colab_type": "code",
        "colab": {
          "base_uri": "https://localhost:8080/",
          "height": 51
        },
        "outputId": "afb76c0f-0791-458a-a1fe-437d0eb71425"
      },
      "source": [
        "total = 25 + 50 ; print(\"total:\", total); sum  = total + 10; print(\"sum:\", sum)"
      ],
      "execution_count": 12,
      "outputs": [
        {
          "output_type": "stream",
          "text": [
            "total: 75\n",
            "sum: 85\n"
          ],
          "name": "stdout"
        }
      ]
    },
    {
      "cell_type": "markdown",
      "metadata": {
        "id": "g_b-YGjKXQnN",
        "colab_type": "text"
      },
      "source": [
        "### List\n",
        "\n",
        "#### Create List"
      ]
    },
    {
      "cell_type": "code",
      "metadata": {
        "id": "jJT0I8zIUAL3",
        "colab_type": "code",
        "colab": {
          "base_uri": "https://localhost:8080/",
          "height": 34
        },
        "outputId": "95b1644e-039f-427b-fe27-b1a10a35cfcf"
      },
      "source": [
        "fruits  = [\"Apple\",\"Orange\",\"Banana\",\"Watermelon\"]\n",
        "fruits"
      ],
      "execution_count": 13,
      "outputs": [
        {
          "output_type": "execute_result",
          "data": {
            "text/plain": [
              "['Apple', 'Orange', 'Banana', 'Watermelon']"
            ]
          },
          "metadata": {
            "tags": []
          },
          "execution_count": 13
        }
      ]
    },
    {
      "cell_type": "code",
      "metadata": {
        "id": "NuJN9mvwXb9g",
        "colab_type": "code",
        "colab": {
          "base_uri": "https://localhost:8080/",
          "height": 34
        },
        "outputId": "7cd0131b-1ea1-4280-b238-77900f7e312a"
      },
      "source": [
        "number_list = list(range(1,11,1))\n",
        "number_list"
      ],
      "execution_count": 14,
      "outputs": [
        {
          "output_type": "execute_result",
          "data": {
            "text/plain": [
              "[1, 2, 3, 4, 5, 6, 7, 8, 9, 10]"
            ]
          },
          "metadata": {
            "tags": []
          },
          "execution_count": 14
        }
      ]
    },
    {
      "cell_type": "code",
      "metadata": {
        "id": "KgU5z3qrXjJO",
        "colab_type": "code",
        "colab": {
          "base_uri": "https://localhost:8080/",
          "height": 102
        },
        "outputId": "5936ccbf-e5f4-41c1-aec7-075000f1d3cc"
      },
      "source": [
        "matrix = [[i+j for i in range(5)] for j in range(5)]\n",
        "matrix"
      ],
      "execution_count": 15,
      "outputs": [
        {
          "output_type": "execute_result",
          "data": {
            "text/plain": [
              "[[0, 1, 2, 3, 4],\n",
              " [1, 2, 3, 4, 5],\n",
              " [2, 3, 4, 5, 6],\n",
              " [3, 4, 5, 6, 7],\n",
              " [4, 5, 6, 7, 8]]"
            ]
          },
          "metadata": {
            "tags": []
          },
          "execution_count": 15
        }
      ]
    },
    {
      "cell_type": "markdown",
      "metadata": {
        "id": "Bz14Te8_YA02",
        "colab_type": "text"
      },
      "source": [
        "#### Access List"
      ]
    },
    {
      "cell_type": "code",
      "metadata": {
        "id": "Obgz_OB7XzzA",
        "colab_type": "code",
        "colab": {
          "base_uri": "https://localhost:8080/",
          "height": 0
        },
        "outputId": "6e5f19e9-a12a-434e-f931-870d30ebca87"
      },
      "source": [
        "# first element of the list\n",
        "number_list[0]"
      ],
      "execution_count": 16,
      "outputs": [
        {
          "output_type": "execute_result",
          "data": {
            "text/plain": [
              "1"
            ]
          },
          "metadata": {
            "tags": []
          },
          "execution_count": 16
        }
      ]
    },
    {
      "cell_type": "code",
      "metadata": {
        "id": "a_LYHnrcYPLY",
        "colab_type": "code",
        "colab": {
          "base_uri": "https://localhost:8080/",
          "height": 0
        },
        "outputId": "a235a1d5-c06e-42a0-9d4e-ad412db50e58"
      },
      "source": [
        "# last element of the list\n",
        "number_list[-1]"
      ],
      "execution_count": 17,
      "outputs": [
        {
          "output_type": "execute_result",
          "data": {
            "text/plain": [
              "10"
            ]
          },
          "metadata": {
            "tags": []
          },
          "execution_count": 17
        }
      ]
    },
    {
      "cell_type": "code",
      "metadata": {
        "id": "c13IP6E_YRPQ",
        "colab_type": "code",
        "colab": {
          "base_uri": "https://localhost:8080/",
          "height": 0
        },
        "outputId": "7b56ec1a-c25a-453b-8072-bda15f621687"
      },
      "source": [
        "# first element to second third element of the list\n",
        "number_list[0:-2]"
      ],
      "execution_count": 18,
      "outputs": [
        {
          "output_type": "execute_result",
          "data": {
            "text/plain": [
              "[1, 2, 3, 4, 5, 6, 7, 8]"
            ]
          },
          "metadata": {
            "tags": []
          },
          "execution_count": 18
        }
      ]
    },
    {
      "cell_type": "code",
      "metadata": {
        "id": "4cnLwfC2Ygj3",
        "colab_type": "code",
        "colab": {
          "base_uri": "https://localhost:8080/",
          "height": 0
        },
        "outputId": "460e9ee7-7aa7-4c14-ae47-ce772403c366"
      },
      "source": [
        "# matrix element 2 st row and 3 element\n",
        "matrix[1][2]"
      ],
      "execution_count": 19,
      "outputs": [
        {
          "output_type": "execute_result",
          "data": {
            "text/plain": [
              "3"
            ]
          },
          "metadata": {
            "tags": []
          },
          "execution_count": 19
        }
      ]
    },
    {
      "cell_type": "markdown",
      "metadata": {
        "id": "bPuDUairY9jq",
        "colab_type": "text"
      },
      "source": [
        "#### Modify the list"
      ]
    },
    {
      "cell_type": "code",
      "metadata": {
        "id": "b56BPwR3YpKA",
        "colab_type": "code",
        "colab": {
          "base_uri": "https://localhost:8080/",
          "height": 0
        },
        "outputId": "316b530d-abfd-4025-984c-fa94b39f40c9"
      },
      "source": [
        "number_list[0] = 2; number_list"
      ],
      "execution_count": 20,
      "outputs": [
        {
          "output_type": "execute_result",
          "data": {
            "text/plain": [
              "[2, 2, 3, 4, 5, 6, 7, 8, 9, 10]"
            ]
          },
          "metadata": {
            "tags": []
          },
          "execution_count": 20
        }
      ]
    },
    {
      "cell_type": "code",
      "metadata": {
        "id": "eg04KQAyZECw",
        "colab_type": "code",
        "colab": {
          "base_uri": "https://localhost:8080/",
          "height": 0
        },
        "outputId": "c34dc9ee-3bbb-414a-800d-3cf5b6097464"
      },
      "source": [
        "# we can add new list of element using + operator\n",
        "number_list = number_list + [5,6,7]; number_list"
      ],
      "execution_count": 21,
      "outputs": [
        {
          "output_type": "execute_result",
          "data": {
            "text/plain": [
              "[2, 2, 3, 4, 5, 6, 7, 8, 9, 10, 5, 6, 7]"
            ]
          },
          "metadata": {
            "tags": []
          },
          "execution_count": 21
        }
      ]
    },
    {
      "cell_type": "code",
      "metadata": {
        "id": "vchW3VeJZJbF",
        "colab_type": "code",
        "colab": {
          "base_uri": "https://localhost:8080/",
          "height": 0
        },
        "outputId": "0c58f046-0cb6-4fc2-a7f6-e87933b25210"
      },
      "source": [
        "# * operation generate the number of time same element copy in the list\n",
        "['haha'] * 3"
      ],
      "execution_count": 22,
      "outputs": [
        {
          "output_type": "execute_result",
          "data": {
            "text/plain": [
              "['haha', 'haha', 'haha']"
            ]
          },
          "metadata": {
            "tags": []
          },
          "execution_count": 22
        }
      ]
    },
    {
      "cell_type": "markdown",
      "metadata": {
        "id": "dSNLk54gZtZ_",
        "colab_type": "text"
      },
      "source": [
        "#### List Commanly used function"
      ]
    },
    {
      "cell_type": "code",
      "metadata": {
        "id": "K-N_xiKOZSQn",
        "colab_type": "code",
        "colab": {
          "base_uri": "https://localhost:8080/",
          "height": 0
        },
        "outputId": "b141ca5c-53dd-4e22-c1a8-87c305f4834e"
      },
      "source": [
        "len(number_list) # len of the list"
      ],
      "execution_count": 23,
      "outputs": [
        {
          "output_type": "execute_result",
          "data": {
            "text/plain": [
              "13"
            ]
          },
          "metadata": {
            "tags": []
          },
          "execution_count": 23
        }
      ]
    },
    {
      "cell_type": "code",
      "metadata": {
        "id": "P-2uyEKdZ12Y",
        "colab_type": "code",
        "colab": {}
      },
      "source": [
        "del(number_list[0]) # del the 0 element from the list"
      ],
      "execution_count": 0,
      "outputs": []
    },
    {
      "cell_type": "code",
      "metadata": {
        "id": "_SHuxzVlZ_JI",
        "colab_type": "code",
        "colab": {
          "base_uri": "https://localhost:8080/",
          "height": 0
        },
        "outputId": "4bd15fb7-7f66-4dda-9a4c-3dd9ad55f1e8"
      },
      "source": [
        "max(number_list) # Return max number from list"
      ],
      "execution_count": 25,
      "outputs": [
        {
          "output_type": "execute_result",
          "data": {
            "text/plain": [
              "10"
            ]
          },
          "metadata": {
            "tags": []
          },
          "execution_count": 25
        }
      ]
    },
    {
      "cell_type": "code",
      "metadata": {
        "id": "j_DAq2AJaDfx",
        "colab_type": "code",
        "colab": {
          "base_uri": "https://localhost:8080/",
          "height": 0
        },
        "outputId": "d9159483-77bf-4380-99ed-90be73bf8bd9"
      },
      "source": [
        "sorted(number_list) # sort the list"
      ],
      "execution_count": 26,
      "outputs": [
        {
          "output_type": "execute_result",
          "data": {
            "text/plain": [
              "[2, 3, 4, 5, 5, 6, 6, 7, 7, 8, 9, 10]"
            ]
          },
          "metadata": {
            "tags": []
          },
          "execution_count": 26
        }
      ]
    },
    {
      "cell_type": "markdown",
      "metadata": {
        "id": "MprZnbYsaeiW",
        "colab_type": "text"
      },
      "source": [
        "#### Commonly used String method"
      ]
    },
    {
      "cell_type": "code",
      "metadata": {
        "id": "skODRvHXaHuT",
        "colab_type": "code",
        "colab": {}
      },
      "source": [
        "obj = 'abc' ; seq = (1,2,3); index = 2;"
      ],
      "execution_count": 0,
      "outputs": []
    },
    {
      "cell_type": "code",
      "metadata": {
        "id": "WfwFAC3lamFS",
        "colab_type": "code",
        "colab": {}
      },
      "source": [
        "number_list.append(obj) # append the element in the list at last place"
      ],
      "execution_count": 0,
      "outputs": []
    },
    {
      "cell_type": "code",
      "metadata": {
        "id": "M36DQ7f9azI5",
        "colab_type": "code",
        "colab": {
          "base_uri": "https://localhost:8080/",
          "height": 0
        },
        "outputId": "3b21a132-85d0-4027-ad96-dbadf8199fe5"
      },
      "source": [
        "number_list.count(obj) # return number of occurance of values"
      ],
      "execution_count": 29,
      "outputs": [
        {
          "output_type": "execute_result",
          "data": {
            "text/plain": [
              "1"
            ]
          },
          "metadata": {
            "tags": []
          },
          "execution_count": 29
        }
      ]
    },
    {
      "cell_type": "code",
      "metadata": {
        "id": "1Y9TVdDHbBHe",
        "colab_type": "code",
        "colab": {
          "base_uri": "https://localhost:8080/",
          "height": 0
        },
        "outputId": "87129c7b-b721-4662-a3a7-f21829fab898"
      },
      "source": [
        "number_list.extend(obj) # extend list by appending element from iterator\n",
        "number_list"
      ],
      "execution_count": 30,
      "outputs": [
        {
          "output_type": "execute_result",
          "data": {
            "text/plain": [
              "[2, 3, 4, 5, 6, 7, 8, 9, 10, 5, 6, 7, 'abc', 'a', 'b', 'c']"
            ]
          },
          "metadata": {
            "tags": []
          },
          "execution_count": 30
        }
      ]
    },
    {
      "cell_type": "code",
      "metadata": {
        "id": "SB1m03HybOu4",
        "colab_type": "code",
        "colab": {
          "base_uri": "https://localhost:8080/",
          "height": 0
        },
        "outputId": "7ffbab7c-a078-4d23-8a59-28077f478114"
      },
      "source": [
        "number_list.index(obj) #return the first index of value"
      ],
      "execution_count": 31,
      "outputs": [
        {
          "output_type": "execute_result",
          "data": {
            "text/plain": [
              "12"
            ]
          },
          "metadata": {
            "tags": []
          },
          "execution_count": 31
        }
      ]
    },
    {
      "cell_type": "code",
      "metadata": {
        "id": "6ByfNVeebXcl",
        "colab_type": "code",
        "colab": {
          "base_uri": "https://localhost:8080/",
          "height": 0
        },
        "outputId": "74dd536e-2015-4fd7-f271-accdb783b375"
      },
      "source": [
        "number_list.insert(index, obj) # insert object before index\n",
        "number_list"
      ],
      "execution_count": 32,
      "outputs": [
        {
          "output_type": "execute_result",
          "data": {
            "text/plain": [
              "[2, 3, 'abc', 4, 5, 6, 7, 8, 9, 10, 5, 6, 7, 'abc', 'a', 'b', 'c']"
            ]
          },
          "metadata": {
            "tags": []
          },
          "execution_count": 32
        }
      ]
    },
    {
      "cell_type": "code",
      "metadata": {
        "id": "zLy-ZVngbhnR",
        "colab_type": "code",
        "colab": {
          "base_uri": "https://localhost:8080/",
          "height": 0
        },
        "outputId": "adfcca47-0625-4272-ab03-cf76fee1de0d"
      },
      "source": [
        "number_list.pop(index) # item remove from the index"
      ],
      "execution_count": 33,
      "outputs": [
        {
          "output_type": "execute_result",
          "data": {
            "text/plain": [
              "'abc'"
            ]
          },
          "metadata": {
            "tags": []
          },
          "execution_count": 33
        }
      ]
    },
    {
      "cell_type": "code",
      "metadata": {
        "id": "Ah-CJP64brAi",
        "colab_type": "code",
        "colab": {}
      },
      "source": [
        "number_list.remove(obj) #remove the first occurance of value"
      ],
      "execution_count": 0,
      "outputs": []
    },
    {
      "cell_type": "code",
      "metadata": {
        "id": "caWo5PVjb0bo",
        "colab_type": "code",
        "colab": {}
      },
      "source": [
        "number_list.reverse() # reverse the list"
      ],
      "execution_count": 0,
      "outputs": []
    },
    {
      "cell_type": "code",
      "metadata": {
        "id": "GduBjSryb8rr",
        "colab_type": "code",
        "colab": {
          "base_uri": "https://localhost:8080/",
          "height": 0
        },
        "outputId": "058cfabf-7aac-4eb7-d946-7e30f67a8a16"
      },
      "source": [
        "number_list"
      ],
      "execution_count": 36,
      "outputs": [
        {
          "output_type": "execute_result",
          "data": {
            "text/plain": [
              "['c', 'b', 'a', 7, 6, 5, 10, 9, 8, 7, 6, 5, 4, 3, 2]"
            ]
          },
          "metadata": {
            "tags": []
          },
          "execution_count": 36
        }
      ]
    },
    {
      "cell_type": "code",
      "metadata": {
        "id": "VQBUcP_xdVjH",
        "colab_type": "code",
        "colab": {
          "base_uri": "https://localhost:8080/",
          "height": 0
        },
        "outputId": "69b08b21-05fc-4711-d424-4494942bb39f"
      },
      "source": [
        "number_list.remove('c')\n",
        "number_list.remove('b')\n",
        "number_list.remove('a')\n",
        "number_list"
      ],
      "execution_count": 37,
      "outputs": [
        {
          "output_type": "execute_result",
          "data": {
            "text/plain": [
              "[7, 6, 5, 10, 9, 8, 7, 6, 5, 4, 3, 2]"
            ]
          },
          "metadata": {
            "tags": []
          },
          "execution_count": 37
        }
      ]
    },
    {
      "cell_type": "code",
      "metadata": {
        "id": "S-o-uzCncbtM",
        "colab_type": "code",
        "colab": {}
      },
      "source": [
        "number_list.sort()"
      ],
      "execution_count": 0,
      "outputs": []
    },
    {
      "cell_type": "code",
      "metadata": {
        "id": "9oXzG60-cvHe",
        "colab_type": "code",
        "colab": {
          "base_uri": "https://localhost:8080/",
          "height": 0
        },
        "outputId": "899a5541-317f-4071-be41-eeb5255c4387"
      },
      "source": [
        "number_list"
      ],
      "execution_count": 39,
      "outputs": [
        {
          "output_type": "execute_result",
          "data": {
            "text/plain": [
              "[2, 3, 4, 5, 5, 6, 6, 7, 7, 8, 9, 10]"
            ]
          },
          "metadata": {
            "tags": []
          },
          "execution_count": 39
        }
      ]
    },
    {
      "cell_type": "markdown",
      "metadata": {
        "id": "BnAYe7DQebpW",
        "colab_type": "text"
      },
      "source": [
        "### Dictionary\n",
        "\n",
        "#### Create Dictionary"
      ]
    },
    {
      "cell_type": "code",
      "metadata": {
        "id": "7THKNgZTegX0",
        "colab_type": "code",
        "colab": {
          "base_uri": "https://localhost:8080/",
          "height": 0
        },
        "outputId": "9b3994bc-e4cb-41fd-c860-c64ee05cc403"
      },
      "source": [
        "tel = {'jack': 4098, 'sape' : 4139}\n",
        "tel[\"guido\"] = 4127\n",
        "tel"
      ],
      "execution_count": 40,
      "outputs": [
        {
          "output_type": "execute_result",
          "data": {
            "text/plain": [
              "{'guido': 4127, 'jack': 4098, 'sape': 4139}"
            ]
          },
          "metadata": {
            "tags": []
          },
          "execution_count": 40
        }
      ]
    },
    {
      "cell_type": "code",
      "metadata": {
        "id": "t7Xa1w_NetRS",
        "colab_type": "code",
        "colab": {
          "base_uri": "https://localhost:8080/",
          "height": 0
        },
        "outputId": "a20f68d8-2f26-4784-eaf6-87c9d1aedf15"
      },
      "source": [
        "dict([('sape', 4139), ('guido', 4127), ('jack', 4098)])"
      ],
      "execution_count": 41,
      "outputs": [
        {
          "output_type": "execute_result",
          "data": {
            "text/plain": [
              "{'guido': 4127, 'jack': 4098, 'sape': 4139}"
            ]
          },
          "metadata": {
            "tags": []
          },
          "execution_count": 41
        }
      ]
    },
    {
      "cell_type": "code",
      "metadata": {
        "id": "Mgbn8StGe54C",
        "colab_type": "code",
        "colab": {
          "base_uri": "https://localhost:8080/",
          "height": 0
        },
        "outputId": "0dc51a2b-b8eb-478a-da96-efc2814075ff"
      },
      "source": [
        "d = dict(a=1,b=2,c=3)\n",
        "d"
      ],
      "execution_count": 42,
      "outputs": [
        {
          "output_type": "execute_result",
          "data": {
            "text/plain": [
              "{'a': 1, 'b': 2, 'c': 3}"
            ]
          },
          "metadata": {
            "tags": []
          },
          "execution_count": 42
        }
      ]
    },
    {
      "cell_type": "code",
      "metadata": {
        "id": "BVe6MLNsfDhF",
        "colab_type": "code",
        "colab": {
          "base_uri": "https://localhost:8080/",
          "height": 0
        },
        "outputId": "578df34d-2e2a-4ef4-dcee-4a6996dd770b"
      },
      "source": [
        "{x : x**2 for x in (2, 4, 6)}"
      ],
      "execution_count": 43,
      "outputs": [
        {
          "output_type": "execute_result",
          "data": {
            "text/plain": [
              "{2: 4, 4: 16, 6: 36}"
            ]
          },
          "metadata": {
            "tags": []
          },
          "execution_count": 43
        }
      ]
    },
    {
      "cell_type": "code",
      "metadata": {
        "id": "z5Cpm5rRfK3w",
        "colab_type": "code",
        "colab": {
          "base_uri": "https://localhost:8080/",
          "height": 0
        },
        "outputId": "19207628-e391-4a79-9e86-4df63d44af43"
      },
      "source": [
        "dict(zip(['a','b','c'], [1,2,3]))"
      ],
      "execution_count": 44,
      "outputs": [
        {
          "output_type": "execute_result",
          "data": {
            "text/plain": [
              "{'a': 1, 'b': 2, 'c': 3}"
            ]
          },
          "metadata": {
            "tags": []
          },
          "execution_count": 44
        }
      ]
    },
    {
      "cell_type": "code",
      "metadata": {
        "id": "MkYwnTOlfS6Y",
        "colab_type": "code",
        "colab": {
          "base_uri": "https://localhost:8080/",
          "height": 0
        },
        "outputId": "ec73947e-42b9-43c9-8977-afc0f493b870"
      },
      "source": [
        "{k:v for (k, v) in zip(['a','b','c'], [1,2,3])}"
      ],
      "execution_count": 45,
      "outputs": [
        {
          "output_type": "execute_result",
          "data": {
            "text/plain": [
              "{'a': 1, 'b': 2, 'c': 3}"
            ]
          },
          "metadata": {
            "tags": []
          },
          "execution_count": 45
        }
      ]
    },
    {
      "cell_type": "markdown",
      "metadata": {
        "id": "PwdV16KJfvtO",
        "colab_type": "text"
      },
      "source": [
        "####Common dictionary operation methods"
      ]
    },
    {
      "cell_type": "code",
      "metadata": {
        "id": "YMtpIlprfeJW",
        "colab_type": "code",
        "colab": {
          "base_uri": "https://localhost:8080/",
          "height": 0
        },
        "outputId": "aff1740b-f101-459b-8b1c-c69b2085bd13"
      },
      "source": [
        "d['d'] = 42  # add new element in the list\n",
        "d"
      ],
      "execution_count": 46,
      "outputs": [
        {
          "output_type": "execute_result",
          "data": {
            "text/plain": [
              "{'a': 1, 'b': 2, 'c': 3, 'd': 42}"
            ]
          },
          "metadata": {
            "tags": []
          },
          "execution_count": 46
        }
      ]
    },
    {
      "cell_type": "code",
      "metadata": {
        "id": "BuOoOv-ff18z",
        "colab_type": "code",
        "colab": {
          "base_uri": "https://localhost:8080/",
          "height": 0
        },
        "outputId": "c3c6fbf1-e169-4d28-90eb-ad86c06af981"
      },
      "source": [
        "dict2 = {'e': 5,'f':6}\n",
        "d.update(dict2) #update the dictionary\n",
        "d"
      ],
      "execution_count": 47,
      "outputs": [
        {
          "output_type": "execute_result",
          "data": {
            "text/plain": [
              "{'a': 1, 'b': 2, 'c': 3, 'd': 42, 'e': 5, 'f': 6}"
            ]
          },
          "metadata": {
            "tags": []
          },
          "execution_count": 47
        }
      ]
    },
    {
      "cell_type": "code",
      "metadata": {
        "id": "ViumtJjTgKF2",
        "colab_type": "code",
        "colab": {
          "base_uri": "https://localhost:8080/",
          "height": 0
        },
        "outputId": "32f8660a-70e2-4d46-bc77-9f9fced2b39e"
      },
      "source": [
        "d.keys() # print the keys list of dictionary"
      ],
      "execution_count": 48,
      "outputs": [
        {
          "output_type": "execute_result",
          "data": {
            "text/plain": [
              "dict_keys(['a', 'b', 'c', 'd', 'e', 'f'])"
            ]
          },
          "metadata": {
            "tags": []
          },
          "execution_count": 48
        }
      ]
    },
    {
      "cell_type": "code",
      "metadata": {
        "id": "zRZc92sSgSu2",
        "colab_type": "code",
        "colab": {
          "base_uri": "https://localhost:8080/",
          "height": 0
        },
        "outputId": "640c1376-66b2-48f7-fff4-40c0d1009d9a"
      },
      "source": [
        "d.values() # print the value of dictionary"
      ],
      "execution_count": 49,
      "outputs": [
        {
          "output_type": "execute_result",
          "data": {
            "text/plain": [
              "dict_values([1, 2, 3, 42, 5, 6])"
            ]
          },
          "metadata": {
            "tags": []
          },
          "execution_count": 49
        }
      ]
    },
    {
      "cell_type": "code",
      "metadata": {
        "id": "qBcDnQZHgegk",
        "colab_type": "code",
        "colab": {
          "base_uri": "https://localhost:8080/",
          "height": 0
        },
        "outputId": "949524c1-bd4b-451f-8736-939dd6463201"
      },
      "source": [
        "d.items() # print the item list of dictionary"
      ],
      "execution_count": 50,
      "outputs": [
        {
          "output_type": "execute_result",
          "data": {
            "text/plain": [
              "dict_items([('a', 1), ('b', 2), ('c', 3), ('d', 42), ('e', 5), ('f', 6)])"
            ]
          },
          "metadata": {
            "tags": []
          },
          "execution_count": 50
        }
      ]
    },
    {
      "cell_type": "code",
      "metadata": {
        "id": "8-if3xVQgigv",
        "colab_type": "code",
        "colab": {
          "base_uri": "https://localhost:8080/",
          "height": 0
        },
        "outputId": "23559799-0337-49ed-97a3-cc28f845cfc2"
      },
      "source": [
        "d.get('a') # return the value of the key a"
      ],
      "execution_count": 51,
      "outputs": [
        {
          "output_type": "execute_result",
          "data": {
            "text/plain": [
              "1"
            ]
          },
          "metadata": {
            "tags": []
          },
          "execution_count": 51
        }
      ]
    },
    {
      "cell_type": "code",
      "metadata": {
        "id": "MV792s17gtnP",
        "colab_type": "code",
        "colab": {
          "base_uri": "https://localhost:8080/",
          "height": 0
        },
        "outputId": "4bebd83d-ea30-4f5e-db6d-bb22fd383361"
      },
      "source": [
        "d.setdefault('a') # a key is become the default value of dictinary\n",
        "d"
      ],
      "execution_count": 52,
      "outputs": [
        {
          "output_type": "execute_result",
          "data": {
            "text/plain": [
              "{'a': 1, 'b': 2, 'c': 3, 'd': 42, 'e': 5, 'f': 6}"
            ]
          },
          "metadata": {
            "tags": []
          },
          "execution_count": 52
        }
      ]
    },
    {
      "cell_type": "code",
      "metadata": {
        "id": "5UXDg90fgzzN",
        "colab_type": "code",
        "colab": {
          "base_uri": "https://localhost:8080/",
          "height": 0
        },
        "outputId": "052937dc-1c15-40f6-cd67-e9a02a34dd79"
      },
      "source": [
        "d.__contains__('c') # check the key is in the list or not"
      ],
      "execution_count": 53,
      "outputs": [
        {
          "output_type": "execute_result",
          "data": {
            "text/plain": [
              "True"
            ]
          },
          "metadata": {
            "tags": []
          },
          "execution_count": 53
        }
      ]
    },
    {
      "cell_type": "code",
      "metadata": {
        "id": "Jw1gGjJtg_81",
        "colab_type": "code",
        "colab": {
          "base_uri": "https://localhost:8080/",
          "height": 0
        },
        "outputId": "058ba32d-e2b5-4bec-e12f-f53641eacb0c"
      },
      "source": [
        "d.pop('f') # remove the f element of the dictionary"
      ],
      "execution_count": 54,
      "outputs": [
        {
          "output_type": "execute_result",
          "data": {
            "text/plain": [
              "6"
            ]
          },
          "metadata": {
            "tags": []
          },
          "execution_count": 54
        }
      ]
    },
    {
      "cell_type": "code",
      "metadata": {
        "id": "KzGgxkRKiKg7",
        "colab_type": "code",
        "colab": {}
      },
      "source": [
        "del d['e'] # delete the e key and value from the dictionary"
      ],
      "execution_count": 0,
      "outputs": []
    },
    {
      "cell_type": "code",
      "metadata": {
        "id": "u8z9pvsTiNfV",
        "colab_type": "code",
        "colab": {}
      },
      "source": [
        "d.clear() # clear the all key and value from the dictionary"
      ],
      "execution_count": 0,
      "outputs": []
    },
    {
      "cell_type": "code",
      "metadata": {
        "id": "rVC4yydgimXw",
        "colab_type": "code",
        "colab": {
          "base_uri": "https://localhost:8080/",
          "height": 0
        },
        "outputId": "f4a5201d-a34c-465a-ea4a-802d6183db94"
      },
      "source": [
        "d"
      ],
      "execution_count": 57,
      "outputs": [
        {
          "output_type": "execute_result",
          "data": {
            "text/plain": [
              "{}"
            ]
          },
          "metadata": {
            "tags": []
          },
          "execution_count": 57
        }
      ]
    },
    {
      "cell_type": "markdown",
      "metadata": {
        "id": "0At4w9BXjZVs",
        "colab_type": "text"
      },
      "source": [
        "### Tuple\n",
        "#### Create the Tuple"
      ]
    },
    {
      "cell_type": "code",
      "metadata": {
        "id": "RaEgN8G4jcxT",
        "colab_type": "code",
        "colab": {}
      },
      "source": [
        "tup1 = ()"
      ],
      "execution_count": 0,
      "outputs": []
    },
    {
      "cell_type": "code",
      "metadata": {
        "id": "IByEJdGqjffe",
        "colab_type": "code",
        "colab": {}
      },
      "source": [
        "tup2 = (1,)"
      ],
      "execution_count": 0,
      "outputs": []
    },
    {
      "cell_type": "code",
      "metadata": {
        "id": "dXGLD8hojg2l",
        "colab_type": "code",
        "colab": {}
      },
      "source": [
        "x = 1,2, 'a'\n",
        "y, z = 'a', 1"
      ],
      "execution_count": 0,
      "outputs": []
    },
    {
      "cell_type": "code",
      "metadata": {
        "id": "L9fWah8Tjl2u",
        "colab_type": "code",
        "colab": {
          "base_uri": "https://localhost:8080/",
          "height": 0
        },
        "outputId": "02d375ae-6e2f-4ad0-da18-57e652cbe5fc"
      },
      "source": [
        "print(x)\n",
        "print(y)\n",
        "print(z)"
      ],
      "execution_count": 61,
      "outputs": [
        {
          "output_type": "stream",
          "text": [
            "(1, 2, 'a')\n",
            "a\n",
            "1\n"
          ],
          "name": "stdout"
        }
      ]
    },
    {
      "cell_type": "markdown",
      "metadata": {
        "id": "FNVYfiRtj_0U",
        "colab_type": "text"
      },
      "source": [
        "#### Modify the tuple"
      ]
    },
    {
      "cell_type": "code",
      "metadata": {
        "id": "E0oDAeoCjo7M",
        "colab_type": "code",
        "colab": {}
      },
      "source": [
        "T = ('c','a','d','e')"
      ],
      "execution_count": 0,
      "outputs": []
    },
    {
      "cell_type": "code",
      "metadata": {
        "id": "lxLOnBFekHQn",
        "colab_type": "code",
        "colab": {}
      },
      "source": [
        "temp = list(T)\n",
        "temp.sort()"
      ],
      "execution_count": 0,
      "outputs": []
    },
    {
      "cell_type": "code",
      "metadata": {
        "id": "jak6Fju8kMRN",
        "colab_type": "code",
        "colab": {
          "base_uri": "https://localhost:8080/",
          "height": 0
        },
        "outputId": "290f8e18-7cf8-4be2-d6db-5c7a922a7134"
      },
      "source": [
        "temp"
      ],
      "execution_count": 64,
      "outputs": [
        {
          "output_type": "execute_result",
          "data": {
            "text/plain": [
              "['a', 'c', 'd', 'e']"
            ]
          },
          "metadata": {
            "tags": []
          },
          "execution_count": 64
        }
      ]
    },
    {
      "cell_type": "code",
      "metadata": {
        "id": "kGqyhHflkOKg",
        "colab_type": "code",
        "colab": {
          "base_uri": "https://localhost:8080/",
          "height": 0
        },
        "outputId": "440c5570-0cea-44f7-f27f-1b542d26ec48"
      },
      "source": [
        "T = tuple(temp)\n",
        "T"
      ],
      "execution_count": 65,
      "outputs": [
        {
          "output_type": "execute_result",
          "data": {
            "text/plain": [
              "('a', 'c', 'd', 'e')"
            ]
          },
          "metadata": {
            "tags": []
          },
          "execution_count": 65
        }
      ]
    },
    {
      "cell_type": "code",
      "metadata": {
        "id": "2-7npcyfkR4_",
        "colab_type": "code",
        "colab": {
          "base_uri": "https://localhost:8080/",
          "height": 0
        },
        "outputId": "81caefba-bb8b-454e-896d-aab82866f8fe"
      },
      "source": [
        "T.count('a') # return the count of element"
      ],
      "execution_count": 66,
      "outputs": [
        {
          "output_type": "execute_result",
          "data": {
            "text/plain": [
              "1"
            ]
          },
          "metadata": {
            "tags": []
          },
          "execution_count": 66
        }
      ]
    },
    {
      "cell_type": "code",
      "metadata": {
        "id": "SDpe3LHgkYik",
        "colab_type": "code",
        "colab": {
          "base_uri": "https://localhost:8080/",
          "height": 0
        },
        "outputId": "13c387ed-c455-4b88-b314-300610f0b64d"
      },
      "source": [
        "T.index('e') # return the index of element"
      ],
      "execution_count": 67,
      "outputs": [
        {
          "output_type": "execute_result",
          "data": {
            "text/plain": [
              "3"
            ]
          },
          "metadata": {
            "tags": []
          },
          "execution_count": 67
        }
      ]
    },
    {
      "cell_type": "markdown",
      "metadata": {
        "id": "mQw5ASsimFJv",
        "colab_type": "text"
      },
      "source": [
        "### String\n",
        "\n",
        "#### Create String"
      ]
    },
    {
      "cell_type": "code",
      "metadata": {
        "id": "rVzJQtjqmJKf",
        "colab_type": "code",
        "colab": {
          "base_uri": "https://localhost:8080/",
          "height": 0
        },
        "outputId": "77c7fd47-2893-4874-8231-faf08d27a83e"
      },
      "source": [
        "s1 = 'I am ashish.\\nI just use python to say: \"Hello World\"'\n",
        "s1"
      ],
      "execution_count": 68,
      "outputs": [
        {
          "output_type": "execute_result",
          "data": {
            "text/plain": [
              "'I am ashish.\\nI just use python to say: \"Hello World\"'"
            ]
          },
          "metadata": {
            "tags": []
          },
          "execution_count": 68
        }
      ]
    },
    {
      "cell_type": "code",
      "metadata": {
        "id": "GfctLZbsnPCM",
        "colab_type": "code",
        "colab": {
          "base_uri": "https://localhost:8080/",
          "height": 0
        },
        "outputId": "80b54335-1030-4050-f376-9f2e771b568d"
      },
      "source": [
        "print(s1)"
      ],
      "execution_count": 69,
      "outputs": [
        {
          "output_type": "stream",
          "text": [
            "I am ashish.\n",
            "I just use python to say: \"Hello World\"\n"
          ],
          "name": "stdout"
        }
      ]
    },
    {
      "cell_type": "code",
      "metadata": {
        "id": "PEuiqyuqnQvW",
        "colab_type": "code",
        "colab": {
          "base_uri": "https://localhost:8080/",
          "height": 0
        },
        "outputId": "68ca6320-2159-4cfd-d2d4-dd1f04fa27b6"
      },
      "source": [
        "s2 = \"I'm ashish. Just use python to say: \\\"hello world!\\\"\"\n",
        "s2"
      ],
      "execution_count": 70,
      "outputs": [
        {
          "output_type": "execute_result",
          "data": {
            "text/plain": [
              "'I\\'m ashish. Just use python to say: \"hello world!\"'"
            ]
          },
          "metadata": {
            "tags": []
          },
          "execution_count": 70
        }
      ]
    },
    {
      "cell_type": "code",
      "metadata": {
        "id": "_aDgyhGMncoF",
        "colab_type": "code",
        "colab": {
          "base_uri": "https://localhost:8080/",
          "height": 0
        },
        "outputId": "088e6958-13c8-41d2-c0e4-3878e97c1790"
      },
      "source": [
        "print(s2)"
      ],
      "execution_count": 71,
      "outputs": [
        {
          "output_type": "stream",
          "text": [
            "I'm ashish. Just use python to say: \"hello world!\"\n"
          ],
          "name": "stdout"
        }
      ]
    },
    {
      "cell_type": "markdown",
      "metadata": {
        "id": "QEcCkk-HntTv",
        "colab_type": "text"
      },
      "source": [
        "#### Basic Strings Operations"
      ]
    },
    {
      "cell_type": "code",
      "metadata": {
        "id": "I6K1GGLtnd_Q",
        "colab_type": "code",
        "colab": {}
      },
      "source": [
        "s1 = 'I\\'m Ashish.'\n",
        "s2 = 'I love Python.'\n",
        "s3 = 'I just use python to say \"Hello World!\"'"
      ],
      "execution_count": 0,
      "outputs": []
    },
    {
      "cell_type": "code",
      "metadata": {
        "id": "LJrusWMDn_sv",
        "colab_type": "code",
        "colab": {
          "base_uri": "https://localhost:8080/",
          "height": 0
        },
        "outputId": "0a43ef3c-7382-439b-cca0-85049dcea48e"
      },
      "source": [
        "s = s1 + '\\n' + s2 + '\\n' + s3;print(s)"
      ],
      "execution_count": 73,
      "outputs": [
        {
          "output_type": "stream",
          "text": [
            "I'm Ashish.\n",
            "I love Python.\n",
            "I just use python to say \"Hello World!\"\n"
          ],
          "name": "stdout"
        }
      ]
    },
    {
      "cell_type": "code",
      "metadata": {
        "id": "zR0xcwo9oGXH",
        "colab_type": "code",
        "colab": {
          "base_uri": "https://localhost:8080/",
          "height": 0
        },
        "outputId": "c2fe9bab-0b84-474c-d40f-642aef79be59"
      },
      "source": [
        "sr = s.replace('Ashish','Sanket');print(sr)"
      ],
      "execution_count": 74,
      "outputs": [
        {
          "output_type": "stream",
          "text": [
            "I'm Sanket.\n",
            "I love Python.\n",
            "I just use python to say \"Hello World!\"\n"
          ],
          "name": "stdout"
        }
      ]
    },
    {
      "cell_type": "code",
      "metadata": {
        "id": "K2NKK8LxoOTD",
        "colab_type": "code",
        "colab": {
          "base_uri": "https://localhost:8080/",
          "height": 0
        },
        "outputId": "55a9856e-027a-4689-bf1b-ef235beb1680"
      },
      "source": [
        "sd = s.replace(s2+'\\n','');print(sd)"
      ],
      "execution_count": 75,
      "outputs": [
        {
          "output_type": "stream",
          "text": [
            "I'm Ashish.\n",
            "I just use python to say \"Hello World!\"\n"
          ],
          "name": "stdout"
        }
      ]
    },
    {
      "cell_type": "code",
      "metadata": {
        "id": "PCw_lRb-ojG2",
        "colab_type": "code",
        "colab": {
          "base_uri": "https://localhost:8080/",
          "height": 0
        },
        "outputId": "01e348b1-4170-44f8-e6bb-d199d3e3ce66"
      },
      "source": [
        "print('Abc'*3) # repeat string three times\n",
        "print('Abc'.lower()) # string to lowercase\n",
        "print('Abc'.upper()) # string to uppercase\n",
        "print('\\tAbc\\n'.strip()) # strip special character like \\t\n",
        "print('Abc'.find('bcd')) # find the element\n",
        "print('Ashish\\tmale\\t28'.split('\\t')) # split the data"
      ],
      "execution_count": 76,
      "outputs": [
        {
          "output_type": "stream",
          "text": [
            "AbcAbcAbc\n",
            "abc\n",
            "ABC\n",
            "Abc\n",
            "-1\n",
            "['Ashish', 'male', '28']\n"
          ],
          "name": "stdout"
        }
      ]
    },
    {
      "cell_type": "markdown",
      "metadata": {
        "id": "sOOV16FbpqOr",
        "colab_type": "text"
      },
      "source": [
        "#### Format String"
      ]
    },
    {
      "cell_type": "code",
      "metadata": {
        "id": "FiWvxBIvpVe2",
        "colab_type": "code",
        "colab": {
          "base_uri": "https://localhost:8080/",
          "height": 0
        },
        "outputId": "57a1f356-6cb0-40cd-d32a-bee003021881"
      },
      "source": [
        "age, weight, hobby, percent = 2020-1990, 62.5, 'travelling', 0.9\n",
        "\n",
        "# %s for String\n",
        "# %d for decimal, integer\n",
        "# %f for float\n",
        "# %% give round value\n",
        "\n",
        "fs = (\"I'm %d years old, My weight is %.2f kg, I like %s. \\\n",
        "\\nI have been to %.0f%% of all countries in the world.\"\n",
        "%(age, weight, hobby, percent * 100))\n",
        "\n",
        "print(fs)"
      ],
      "execution_count": 77,
      "outputs": [
        {
          "output_type": "stream",
          "text": [
            "I'm 30 years old, My weight is 62.50 kg, I like travelling. \n",
            "I have been to 90% of all countries in the world.\n"
          ],
          "name": "stdout"
        }
      ]
    },
    {
      "cell_type": "code",
      "metadata": {
        "id": "O2Z70_KUrDVa",
        "colab_type": "code",
        "colab": {
          "base_uri": "https://localhost:8080/",
          "height": 0
        },
        "outputId": "a84359ca-a94d-40eb-f31c-4ae255ac06a4"
      },
      "source": [
        "fs = (\"I'm {} years old, My weight is {:.2f} kg, I like {}. \\\n",
        "\\nI have been to {:.0%} of all countries in the world.\"\n",
        ".format(age, weight, hobby, percent))\n",
        "\n",
        "print(fs)"
      ],
      "execution_count": 78,
      "outputs": [
        {
          "output_type": "stream",
          "text": [
            "I'm 30 years old, My weight is 62.50 kg, I like travelling. \n",
            "I have been to 90% of all countries in the world.\n"
          ],
          "name": "stdout"
        }
      ]
    },
    {
      "cell_type": "markdown",
      "metadata": {
        "id": "PSJWhzgXsZWZ",
        "colab_type": "text"
      },
      "source": [
        "### Condition Statements\n",
        "\n",
        "#### Multibranch Structure"
      ]
    },
    {
      "cell_type": "code",
      "metadata": {
        "id": "3RGfSK4Ursdk",
        "colab_type": "code",
        "colab": {
          "base_uri": "https://localhost:8080/",
          "height": 0
        },
        "outputId": "88a8e598-5060-4461-f976-c7ca6b500153"
      },
      "source": [
        "'''\n",
        "Multibranch Structure\n",
        "'''\n",
        "\n",
        "def add(x,y):\n",
        "  return x+y\n",
        "\n",
        "def sub(x,y):\n",
        "  return x-y\n",
        "\n",
        "def mul(x,y) :\n",
        "  return x*y\n",
        "\n",
        "def div(x,y):\n",
        "  return x/y\n",
        "\n",
        "operator = {\"+\":add,\"-\":sub,\"*\":mul, \"/\":div}\n",
        "\n",
        "def f(x,o,y):\n",
        "  return operator.get(o)(x,y)\n",
        "\n",
        "f(3,\"+\",2)"
      ],
      "execution_count": 79,
      "outputs": [
        {
          "output_type": "execute_result",
          "data": {
            "text/plain": [
              "5"
            ]
          },
          "metadata": {
            "tags": []
          },
          "execution_count": 79
        }
      ]
    },
    {
      "cell_type": "markdown",
      "metadata": {
        "id": "gEp2JvGCu5vj",
        "colab_type": "text"
      },
      "source": [
        "#### And OR operators"
      ]
    },
    {
      "cell_type": "code",
      "metadata": {
        "id": "1ktRMODttbth",
        "colab_type": "code",
        "colab": {
          "base_uri": "https://localhost:8080/",
          "height": 0
        },
        "outputId": "46c089e2-4b6b-438b-be4d-e2ffe3c9385c"
      },
      "source": [
        "[] or 3"
      ],
      "execution_count": 80,
      "outputs": [
        {
          "output_type": "execute_result",
          "data": {
            "text/plain": [
              "3"
            ]
          },
          "metadata": {
            "tags": []
          },
          "execution_count": 80
        }
      ]
    },
    {
      "cell_type": "code",
      "metadata": {
        "id": "gdP2i4nvu_R8",
        "colab_type": "code",
        "colab": {
          "base_uri": "https://localhost:8080/",
          "height": 0
        },
        "outputId": "b464b903-87ab-450f-c4a8-7dbe55be49f2"
      },
      "source": [
        "[] or {}"
      ],
      "execution_count": 81,
      "outputs": [
        {
          "output_type": "execute_result",
          "data": {
            "text/plain": [
              "{}"
            ]
          },
          "metadata": {
            "tags": []
          },
          "execution_count": 81
        }
      ]
    },
    {
      "cell_type": "code",
      "metadata": {
        "id": "9jyTBbXIvCY_",
        "colab_type": "code",
        "colab": {
          "base_uri": "https://localhost:8080/",
          "height": 0
        },
        "outputId": "185f15a5-c39c-4a9d-9369-0431f4c04d9c"
      },
      "source": [
        "() and []"
      ],
      "execution_count": 82,
      "outputs": [
        {
          "output_type": "execute_result",
          "data": {
            "text/plain": [
              "()"
            ]
          },
          "metadata": {
            "tags": []
          },
          "execution_count": 82
        }
      ]
    },
    {
      "cell_type": "code",
      "metadata": {
        "id": "aAb9gbROvFg7",
        "colab_type": "code",
        "colab": {
          "base_uri": "https://localhost:8080/",
          "height": 0
        },
        "outputId": "ca8ec61e-3a7a-4b00-fa77-ad014e263844"
      },
      "source": [
        "[bool(1), bool(0), bool({})]"
      ],
      "execution_count": 83,
      "outputs": [
        {
          "output_type": "execute_result",
          "data": {
            "text/plain": [
              "[True, False, False]"
            ]
          },
          "metadata": {
            "tags": []
          },
          "execution_count": 83
        }
      ]
    },
    {
      "cell_type": "code",
      "metadata": {
        "id": "KYrw3HFOvMEw",
        "colab_type": "code",
        "colab": {
          "base_uri": "https://localhost:8080/",
          "height": 0
        },
        "outputId": "5913a3f8-1e1c-4c3a-e403-db8b71f7205a"
      },
      "source": [
        "A = {}; B = (1,2); C = []\n",
        "X =  A or B or C or None\n",
        "X"
      ],
      "execution_count": 84,
      "outputs": [
        {
          "output_type": "execute_result",
          "data": {
            "text/plain": [
              "(1, 2)"
            ]
          },
          "metadata": {
            "tags": []
          },
          "execution_count": 84
        }
      ]
    },
    {
      "cell_type": "markdown",
      "metadata": {
        "id": "A0bQiUI6wG4q",
        "colab_type": "text"
      },
      "source": [
        "### Loops, Break, Continues and pass"
      ]
    },
    {
      "cell_type": "code",
      "metadata": {
        "id": "Dc7ZoqY6vWke",
        "colab_type": "code",
        "colab": {
          "base_uri": "https://localhost:8080/",
          "height": 0
        },
        "outputId": "e0fd2225-84db-405a-9ba7-ca96275373c8"
      },
      "source": [
        "i = 1; s = 0\n",
        "while i <= 10:\n",
        "  s = s+i\n",
        "  i = i+1\n",
        "\n",
        "print(s)"
      ],
      "execution_count": 85,
      "outputs": [
        {
          "output_type": "stream",
          "text": [
            "55\n"
          ],
          "name": "stdout"
        }
      ]
    },
    {
      "cell_type": "code",
      "metadata": {
        "id": "NBw1O8ePwX6y",
        "colab_type": "code",
        "colab": {
          "base_uri": "https://localhost:8080/",
          "height": 0
        },
        "outputId": "32f1f7d2-b155-4eb4-d581-d1958c183aee"
      },
      "source": [
        "T = [(1,2),(3,4),(5,6)]\n",
        "for (a,b) in T:\n",
        "  print(a,b)"
      ],
      "execution_count": 86,
      "outputs": [
        {
          "output_type": "stream",
          "text": [
            "1 2\n",
            "3 4\n",
            "5 6\n"
          ],
          "name": "stdout"
        }
      ]
    },
    {
      "cell_type": "code",
      "metadata": {
        "id": "Zt49qWuHwiG_",
        "colab_type": "code",
        "colab": {
          "base_uri": "https://localhost:8080/",
          "height": 0
        },
        "outputId": "909ed820-0cfd-4a1f-e6a0-acab83d8ccf6"
      },
      "source": [
        "D = {'a':1, 'b': 2, 'c':3}\n",
        "for key in D:\n",
        "  print(key,\"=>\",D[key])"
      ],
      "execution_count": 87,
      "outputs": [
        {
          "output_type": "stream",
          "text": [
            "a => 1\n",
            "b => 2\n",
            "c => 3\n"
          ],
          "name": "stdout"
        }
      ]
    },
    {
      "cell_type": "code",
      "metadata": {
        "id": "78MMKY9Lwvo6",
        "colab_type": "code",
        "colab": {
          "base_uri": "https://localhost:8080/",
          "height": 0
        },
        "outputId": "9418c258-4620-480d-b334-b9f0b6a419c3"
      },
      "source": [
        "for ((a,b), c) in [((1,2),3),((4,5),6)]:\n",
        "  print(a,b,c)"
      ],
      "execution_count": 88,
      "outputs": [
        {
          "output_type": "stream",
          "text": [
            "1 2 3\n",
            "4 5 6\n"
          ],
          "name": "stdout"
        }
      ]
    },
    {
      "cell_type": "markdown",
      "metadata": {
        "id": "mnbXNtnqxbeo",
        "colab_type": "text"
      },
      "source": [
        "### Function\n",
        "\n",
        "#### Define Functions"
      ]
    },
    {
      "cell_type": "code",
      "metadata": {
        "id": "9sfxzls7xYsQ",
        "colab_type": "code",
        "colab": {
          "base_uri": "https://localhost:8080/",
          "height": 0
        },
        "outputId": "d91180be-33aa-47a1-8335-0646315d2c43"
      },
      "source": [
        "def my_abs(x):\n",
        "  if x>=0:\n",
        "    return x\n",
        "  else:\n",
        "    return -x\n",
        "\n",
        "my_abs(-100)"
      ],
      "execution_count": 89,
      "outputs": [
        {
          "output_type": "execute_result",
          "data": {
            "text/plain": [
              "100"
            ]
          },
          "metadata": {
            "tags": []
          },
          "execution_count": 89
        }
      ]
    },
    {
      "cell_type": "markdown",
      "metadata": {
        "id": "x5_nw1H6x8Y-",
        "colab_type": "text"
      },
      "source": [
        "#### Default Parameter"
      ]
    },
    {
      "cell_type": "code",
      "metadata": {
        "id": "oMK9pDjvw6dJ",
        "colab_type": "code",
        "colab": {}
      },
      "source": [
        "def my_power(x, n=2):\n",
        "  s = 1\n",
        "  while n > 0:\n",
        "    n = n - 1\n",
        "    s = s * x\n",
        "  return s"
      ],
      "execution_count": 0,
      "outputs": []
    },
    {
      "cell_type": "code",
      "metadata": {
        "id": "XjkeyoxayRzA",
        "colab_type": "code",
        "colab": {
          "base_uri": "https://localhost:8080/",
          "height": 0
        },
        "outputId": "28250d0a-3078-462b-9cb8-54174433b20b"
      },
      "source": [
        "[my_power(5), my_power(5, 3)]"
      ],
      "execution_count": 91,
      "outputs": [
        {
          "output_type": "execute_result",
          "data": {
            "text/plain": [
              "[25, 125]"
            ]
          },
          "metadata": {
            "tags": []
          },
          "execution_count": 91
        }
      ]
    },
    {
      "cell_type": "markdown",
      "metadata": {
        "id": "R8PtmiD3ze-w",
        "colab_type": "text"
      },
      "source": [
        "#### Variable Parameter"
      ]
    },
    {
      "cell_type": "code",
      "metadata": {
        "id": "5RmGpINGyvC3",
        "colab_type": "code",
        "colab": {
          "base_uri": "https://localhost:8080/",
          "height": 0
        },
        "outputId": "168d5b0b-e3d8-4cc2-fd7f-06c17986afe3"
      },
      "source": [
        "def calc(numbers):\n",
        "  sum = 0\n",
        "  for n in numbers:\n",
        "    sum = sum + n * n\n",
        "  return sum\n",
        "\n",
        "calc([1,2,3])"
      ],
      "execution_count": 92,
      "outputs": [
        {
          "output_type": "execute_result",
          "data": {
            "text/plain": [
              "14"
            ]
          },
          "metadata": {
            "tags": []
          },
          "execution_count": 92
        }
      ]
    },
    {
      "cell_type": "code",
      "metadata": {
        "id": "JAdGKDWHzvpv",
        "colab_type": "code",
        "colab": {
          "base_uri": "https://localhost:8080/",
          "height": 0
        },
        "outputId": "252a499f-5a23-467b-a2e9-9528abdf0482"
      },
      "source": [
        "def calc(*numbers):\n",
        "  # *numbers => means you can pass number in tuple format like below function\n",
        "  sum = 0\n",
        "  for n in numbers:\n",
        "    sum = sum + n * n\n",
        "  return sum\n",
        "\n",
        "calc(1,2,3)"
      ],
      "execution_count": 93,
      "outputs": [
        {
          "output_type": "execute_result",
          "data": {
            "text/plain": [
              "14"
            ]
          },
          "metadata": {
            "tags": []
          },
          "execution_count": 93
        }
      ]
    },
    {
      "cell_type": "code",
      "metadata": {
        "id": "yPPRNzjX0EYf",
        "colab_type": "code",
        "colab": {
          "base_uri": "https://localhost:8080/",
          "height": 0
        },
        "outputId": "e0937570-2459-45d2-ea2b-5cdce01959eb"
      },
      "source": [
        "calc()"
      ],
      "execution_count": 94,
      "outputs": [
        {
          "output_type": "execute_result",
          "data": {
            "text/plain": [
              "0"
            ]
          },
          "metadata": {
            "tags": []
          },
          "execution_count": 94
        }
      ]
    },
    {
      "cell_type": "code",
      "metadata": {
        "id": "YKVsPQca0HwE",
        "colab_type": "code",
        "colab": {
          "base_uri": "https://localhost:8080/",
          "height": 0
        },
        "outputId": "301ab1ff-3784-4aae-8e02-ff6a8359eaa7"
      },
      "source": [
        "nums = [1,2,3]\n",
        "calc(*nums)"
      ],
      "execution_count": 95,
      "outputs": [
        {
          "output_type": "execute_result",
          "data": {
            "text/plain": [
              "14"
            ]
          },
          "metadata": {
            "tags": []
          },
          "execution_count": 95
        }
      ]
    },
    {
      "cell_type": "markdown",
      "metadata": {
        "id": "ATpNOGRO03p1",
        "colab_type": "text"
      },
      "source": [
        "#### Keyword Parameters"
      ]
    },
    {
      "cell_type": "code",
      "metadata": {
        "id": "ieFgZKSy0UQO",
        "colab_type": "code",
        "colab": {
          "base_uri": "https://localhost:8080/",
          "height": 0
        },
        "outputId": "83b162ea-0a69-434d-be23-28c3effedaf7"
      },
      "source": [
        "'''\n",
        "*kw => you can pass parameter as dictionary format\n",
        "'''\n",
        "def person(name, age, **kw):\n",
        "  print('name:', name, 'age:', age, 'other:', kw)\n",
        "\n",
        "person('Ashish', 30)"
      ],
      "execution_count": 96,
      "outputs": [
        {
          "output_type": "stream",
          "text": [
            "name: Ashish age: 30 other: {}\n"
          ],
          "name": "stdout"
        }
      ]
    },
    {
      "cell_type": "code",
      "metadata": {
        "id": "s9WLvHwj1cpA",
        "colab_type": "code",
        "colab": {
          "base_uri": "https://localhost:8080/",
          "height": 0
        },
        "outputId": "4771753f-6dfd-4e46-c145-72f0b72894c6"
      },
      "source": [
        "person('Sanket',45, gender='M', job = 'Data Scientist')"
      ],
      "execution_count": 97,
      "outputs": [
        {
          "output_type": "stream",
          "text": [
            "name: Sanket age: 45 other: {'gender': 'M', 'job': 'Data Scientist'}\n"
          ],
          "name": "stdout"
        }
      ]
    },
    {
      "cell_type": "code",
      "metadata": {
        "id": "Bzf7EcXG1sFv",
        "colab_type": "code",
        "colab": {
          "base_uri": "https://localhost:8080/",
          "height": 0
        },
        "outputId": "290c4d20-98b7-4b13-cab1-6375a2066031"
      },
      "source": [
        "dic = {'gender':'male', 'hometown':'NewYork'}\n",
        "person('Ashish', 30, **dic)"
      ],
      "execution_count": 98,
      "outputs": [
        {
          "output_type": "stream",
          "text": [
            "name: Ashish age: 30 other: {'gender': 'male', 'hometown': 'NewYork'}\n"
          ],
          "name": "stdout"
        }
      ]
    },
    {
      "cell_type": "markdown",
      "metadata": {
        "id": "LKh-BJuK2UsC",
        "colab_type": "text"
      },
      "source": [
        "#### Mixed Parameter"
      ]
    },
    {
      "cell_type": "code",
      "metadata": {
        "id": "oYAQHamA2ATM",
        "colab_type": "code",
        "colab": {
          "base_uri": "https://localhost:8080/",
          "height": 0
        },
        "outputId": "8157432d-6a49-46f3-a699-76e18b74ddf2"
      },
      "source": [
        "def func(a, b, c=0, *args, **kw):\n",
        "  print('a=',a, 'b =', b, 'c=', c, 'args = ', args, 'kw = ', kw)\n",
        "\n",
        "func(1,2,3, 'a', 'b', x = 99)"
      ],
      "execution_count": 99,
      "outputs": [
        {
          "output_type": "stream",
          "text": [
            "a= 1 b = 2 c= 3 args =  ('a', 'b') kw =  {'x': 99}\n"
          ],
          "name": "stdout"
        }
      ]
    },
    {
      "cell_type": "markdown",
      "metadata": {
        "id": "nmfKOfbW3yra",
        "colab_type": "text"
      },
      "source": [
        "### Lambda(λ) Function"
      ]
    },
    {
      "cell_type": "code",
      "metadata": {
        "id": "HoZrcZRH2vVL",
        "colab_type": "code",
        "colab": {
          "base_uri": "https://localhost:8080/",
          "height": 0
        },
        "outputId": "24006b31-0ef2-494f-ad57-982513e81ba6"
      },
      "source": [
        "import time\n",
        "start = time.time()\n",
        "fib = lambda n,x = 0, y = 1: x if not n else fib(n-1, y, x + y)\n",
        "print(fib(30))\n",
        "end  = time.time()\n",
        "print(\"time used: %f s\" %(end-start))"
      ],
      "execution_count": 100,
      "outputs": [
        {
          "output_type": "stream",
          "text": [
            "832040\n",
            "time used: 0.000299 s\n"
          ],
          "name": "stdout"
        }
      ]
    },
    {
      "cell_type": "code",
      "metadata": {
        "id": "9Hra8aXZ4NPc",
        "colab_type": "code",
        "colab": {
          "base_uri": "https://localhost:8080/",
          "height": 0
        },
        "outputId": "57847875-f47c-4130-e98b-3eef98e78e1d"
      },
      "source": [
        "start = time.time()\n",
        "def fib(n,x = 0, y = 1):\n",
        "  return n <= 2 and 1 or fib(n-1)+fib(n-2)\n",
        "print(fib(30))\n",
        "end  = time.time()\n",
        "print(\"time used: %f s\" %(end-start))"
      ],
      "execution_count": 101,
      "outputs": [
        {
          "output_type": "stream",
          "text": [
            "832040\n",
            "time used: 0.226965 s\n"
          ],
          "name": "stdout"
        }
      ]
    },
    {
      "cell_type": "markdown",
      "metadata": {
        "id": "N4TBLids5YsO",
        "colab_type": "text"
      },
      "source": [
        "### Iterator"
      ]
    },
    {
      "cell_type": "code",
      "metadata": {
        "id": "oCh6P61h4nOt",
        "colab_type": "code",
        "colab": {
          "base_uri": "https://localhost:8080/",
          "height": 0
        },
        "outputId": "dd123de7-1991-4cf3-8d56-4da9dbf8930a"
      },
      "source": [
        "# Range\n",
        "S = 'abcdefghijk'\n",
        "for i in range(0, len(S), 4):\n",
        "  print(S[i])"
      ],
      "execution_count": 102,
      "outputs": [
        {
          "output_type": "stream",
          "text": [
            "a\n",
            "e\n",
            "i\n"
          ],
          "name": "stdout"
        }
      ]
    },
    {
      "cell_type": "code",
      "metadata": {
        "id": "uALNpQ_r5lja",
        "colab_type": "code",
        "colab": {
          "base_uri": "https://localhost:8080/",
          "height": 0
        },
        "outputId": "685c29a6-cca3-4569-8d85-476b31f2ba49"
      },
      "source": [
        "# zip\n",
        "L1 = [1,2,3,4]\n",
        "L2 = [5,6,7,8]\n",
        "for (x,y) in zip(L1,L2):\n",
        "  print(x,y, x + y)"
      ],
      "execution_count": 103,
      "outputs": [
        {
          "output_type": "stream",
          "text": [
            "1 5 6\n",
            "2 6 8\n",
            "3 7 10\n",
            "4 8 12\n"
          ],
          "name": "stdout"
        }
      ]
    },
    {
      "cell_type": "code",
      "metadata": {
        "id": "R43nxP1I5-xw",
        "colab_type": "code",
        "colab": {
          "base_uri": "https://localhost:8080/",
          "height": 0
        },
        "outputId": "fabb8e82-d084-429a-d6cf-9f8025273b5f"
      },
      "source": [
        "# Enumerate\n",
        "seasons = ['Spring','Summer','Fall','Winter']\n",
        "for i, sea in enumerate(seasons, start=2):\n",
        "  print(i, sea)"
      ],
      "execution_count": 104,
      "outputs": [
        {
          "output_type": "stream",
          "text": [
            "2 Spring\n",
            "3 Summer\n",
            "4 Fall\n",
            "5 Winter\n"
          ],
          "name": "stdout"
        }
      ]
    },
    {
      "cell_type": "code",
      "metadata": {
        "id": "v5o2LtHJ6kwA",
        "colab_type": "code",
        "colab": {
          "base_uri": "https://localhost:8080/",
          "height": 0
        },
        "outputId": "48b182f0-b374-4855-bf18-3caa306d62e8"
      },
      "source": [
        "# Map\n",
        "list(map((lambda x:x+3),[1,2,3,4]))"
      ],
      "execution_count": 105,
      "outputs": [
        {
          "output_type": "execute_result",
          "data": {
            "text/plain": [
              "[4, 5, 6, 7]"
            ]
          },
          "metadata": {
            "tags": []
          },
          "execution_count": 105
        }
      ]
    },
    {
      "cell_type": "code",
      "metadata": {
        "id": "D4GKG-ZM6ssu",
        "colab_type": "code",
        "colab": {
          "base_uri": "https://localhost:8080/",
          "height": 0
        },
        "outputId": "e7978623-d0d5-45bd-b4d3-847b90c1996a"
      },
      "source": [
        "list(map(pow, [2,3,4], [1,2,3]))"
      ],
      "execution_count": 106,
      "outputs": [
        {
          "output_type": "execute_result",
          "data": {
            "text/plain": [
              "[2, 9, 64]"
            ]
          },
          "metadata": {
            "tags": []
          },
          "execution_count": 106
        }
      ]
    },
    {
      "cell_type": "code",
      "metadata": {
        "id": "hVFmlMPc8VnX",
        "colab_type": "code",
        "colab": {
          "base_uri": "https://localhost:8080/",
          "height": 0
        },
        "outputId": "d57041ea-9528-493d-ad36-93eff9dd07f3"
      },
      "source": [
        "# filter\n",
        "list(filter((lambda x: x > 0), range(-5, 5)))"
      ],
      "execution_count": 107,
      "outputs": [
        {
          "output_type": "execute_result",
          "data": {
            "text/plain": [
              "[1, 2, 3, 4]"
            ]
          },
          "metadata": {
            "tags": []
          },
          "execution_count": 107
        }
      ]
    },
    {
      "cell_type": "code",
      "metadata": {
        "id": "DwDu128l9Hk1",
        "colab_type": "code",
        "colab": {
          "base_uri": "https://localhost:8080/",
          "height": 0
        },
        "outputId": "fa94dfe8-5ad8-4cec-89cf-74a62c4ade98"
      },
      "source": [
        "import functools\n",
        "functools.reduce(lambda x,y: x+y, [47,11,42,13])"
      ],
      "execution_count": 108,
      "outputs": [
        {
          "output_type": "execute_result",
          "data": {
            "text/plain": [
              "113"
            ]
          },
          "metadata": {
            "tags": []
          },
          "execution_count": 108
        }
      ]
    },
    {
      "cell_type": "markdown",
      "metadata": {
        "id": "72bvzX4DAVRj",
        "colab_type": "text"
      },
      "source": [
        "### Python Deviations\n",
        "#### Python List Comprehension"
      ]
    },
    {
      "cell_type": "code",
      "metadata": {
        "id": "Q_rOuPLZ9dGk",
        "colab_type": "code",
        "colab": {
          "base_uri": "https://localhost:8080/",
          "height": 34
        },
        "outputId": "fd94a40b-5cd1-4442-d346-b86bdcd5c45b"
      },
      "source": [
        "squarelist = [x**2 for x in range(10)]\n",
        "squarelist"
      ],
      "execution_count": 121,
      "outputs": [
        {
          "output_type": "execute_result",
          "data": {
            "text/plain": [
              "[0, 1, 4, 9, 16, 25, 36, 49, 64, 81]"
            ]
          },
          "metadata": {
            "tags": []
          },
          "execution_count": 121
        }
      ]
    },
    {
      "cell_type": "code",
      "metadata": {
        "id": "Jzofly3dAgi3",
        "colab_type": "code",
        "colab": {
          "base_uri": "https://localhost:8080/",
          "height": 34
        },
        "outputId": "eeb044ec-8626-4920-b195-c62f49ae34f3"
      },
      "source": [
        "nl = [-2,3,2,32,0,23,89,34,98]\n",
        "absl = [x if x>0 else -x for x in nl]\n",
        "absl"
      ],
      "execution_count": 122,
      "outputs": [
        {
          "output_type": "execute_result",
          "data": {
            "text/plain": [
              "[2, 3, 2, 32, 0, 23, 89, 34, 98]"
            ]
          },
          "metadata": {
            "tags": []
          },
          "execution_count": 122
        }
      ]
    },
    {
      "cell_type": "code",
      "metadata": {
        "id": "vNNWV31IAvCH",
        "colab_type": "code",
        "colab": {
          "base_uri": "https://localhost:8080/",
          "height": 34
        },
        "outputId": "0867db27-1afa-4fa3-fec9-9bab53d7b3f6"
      },
      "source": [
        "squarel = [x**2 for x in nl if x>0]\n",
        "squarel"
      ],
      "execution_count": 123,
      "outputs": [
        {
          "output_type": "execute_result",
          "data": {
            "text/plain": [
              "[9, 4, 1024, 529, 7921, 1156, 9604]"
            ]
          },
          "metadata": {
            "tags": []
          },
          "execution_count": 123
        }
      ]
    },
    {
      "cell_type": "code",
      "metadata": {
        "id": "osXUkgVIA_iU",
        "colab_type": "code",
        "colab": {
          "base_uri": "https://localhost:8080/",
          "height": 170
        },
        "outputId": "b42dc108-4463-4080-99ae-421797c02e34"
      },
      "source": [
        "girls = ['Mary','Lily','Ann']\n",
        "boys = ['Toms','Johns','Brown']\n",
        "couples = [(g, b) for g in girls for b in boys]\n",
        "couples"
      ],
      "execution_count": 124,
      "outputs": [
        {
          "output_type": "execute_result",
          "data": {
            "text/plain": [
              "[('Mary', 'Toms'),\n",
              " ('Mary', 'Johns'),\n",
              " ('Mary', 'Brown'),\n",
              " ('Lily', 'Toms'),\n",
              " ('Lily', 'Johns'),\n",
              " ('Lily', 'Brown'),\n",
              " ('Ann', 'Toms'),\n",
              " ('Ann', 'Johns'),\n",
              " ('Ann', 'Brown')]"
            ]
          },
          "metadata": {
            "tags": []
          },
          "execution_count": 124
        }
      ]
    },
    {
      "cell_type": "code",
      "metadata": {
        "id": "EvCuppbABPRD",
        "colab_type": "code",
        "colab": {}
      },
      "source": [
        "m = [[1,2,3],[4,5,6],[7,8,9]]\n",
        "n = [[2,4,6],[1,3,5],[7,8,9]]\n",
        "\n",
        "# [[sum([m[row][i]*n[i][col] for i in range(3)]) for col in range(3)] for row in range(3)]"
      ],
      "execution_count": 0,
      "outputs": []
    },
    {
      "cell_type": "markdown",
      "metadata": {
        "id": "B_daeEmpClAG",
        "colab_type": "text"
      },
      "source": [
        "#### Dictionary Derivation"
      ]
    },
    {
      "cell_type": "code",
      "metadata": {
        "id": "H-JE6i1gCP_2",
        "colab_type": "code",
        "colab": {
          "base_uri": "https://localhost:8080/",
          "height": 34
        },
        "outputId": "9b01c83c-1134-4844-f0eb-72e566263a35"
      },
      "source": [
        "seasons = ['Spring','Summer','Autumn','Winter']\n",
        "D = {count:key for count, key in enumerate(seasons, start=1)}\n",
        "D"
      ],
      "execution_count": 115,
      "outputs": [
        {
          "output_type": "execute_result",
          "data": {
            "text/plain": [
              "{1: 'Spring', 2: 'Summer', 3: 'Autumn', 4: 'Winter'}"
            ]
          },
          "metadata": {
            "tags": []
          },
          "execution_count": 115
        }
      ]
    },
    {
      "cell_type": "markdown",
      "metadata": {
        "id": "pLv0DNIrDH0X",
        "colab_type": "text"
      },
      "source": [
        "#### Set Comprehension"
      ]
    },
    {
      "cell_type": "code",
      "metadata": {
        "id": "VQQm8gaTC3s3",
        "colab_type": "code",
        "colab": {
          "base_uri": "https://localhost:8080/",
          "height": 34
        },
        "outputId": "87729bb5-fd37-438e-aa4e-16fc7de3142c"
      },
      "source": [
        "A = {1,2,3,4,5,6}\n",
        "B = {2,3,5,7}\n",
        "AandB = {x for x in B if x in A}\n",
        "AandB"
      ],
      "execution_count": 116,
      "outputs": [
        {
          "output_type": "execute_result",
          "data": {
            "text/plain": [
              "{2, 3, 5}"
            ]
          },
          "metadata": {
            "tags": []
          },
          "execution_count": 116
        }
      ]
    },
    {
      "cell_type": "code",
      "metadata": {
        "id": "f9TJWaCvDoGD",
        "colab_type": "code",
        "colab": {
          "base_uri": "https://localhost:8080/",
          "height": 34
        },
        "outputId": "59ab31cc-e117-4a93-f2fe-85bca5a33118"
      },
      "source": [
        "SquareA = {x**2 for x in A}\n",
        "SquareA"
      ],
      "execution_count": 117,
      "outputs": [
        {
          "output_type": "execute_result",
          "data": {
            "text/plain": [
              "{1, 4, 9, 16, 25, 36}"
            ]
          },
          "metadata": {
            "tags": []
          },
          "execution_count": 117
        }
      ]
    },
    {
      "cell_type": "code",
      "metadata": {
        "id": "XXBSpUZhDt1W",
        "colab_type": "code",
        "colab": {
          "base_uri": "https://localhost:8080/",
          "height": 34
        },
        "outputId": "12eb5c79-82b0-406b-975c-c98f7bbbd557"
      },
      "source": [
        "{x for x in range(-100, 100) if x in A or x in B}"
      ],
      "execution_count": 132,
      "outputs": [
        {
          "output_type": "execute_result",
          "data": {
            "text/plain": [
              "{1, 2, 3, 4, 5, 6, 7}"
            ]
          },
          "metadata": {
            "tags": []
          },
          "execution_count": 132
        }
      ]
    },
    {
      "cell_type": "markdown",
      "metadata": {
        "id": "0fAhnglzEr_L",
        "colab_type": "text"
      },
      "source": [
        "### Python Classes and Objects"
      ]
    },
    {
      "cell_type": "code",
      "metadata": {
        "id": "To62IwtfD0mG",
        "colab_type": "code",
        "colab": {}
      },
      "source": [
        "class Dog(object):\n",
        "  def __init__(self, name, weight = \"?\", breed = \"?\", age = \"?\"):\n",
        "    self.name = name\n",
        "    self.weight = weight\n",
        "    self.breed = breed\n",
        "    self.__age = age\n",
        "\n",
        "  def run(self):\n",
        "    print('%s is running ...'%(self.name))\n",
        "\n",
        "  def bark(self):\n",
        "    print('Bowwow, Bowwow, Bowwow ...')\n",
        "\n",
        "  def eat(self, food):\n",
        "    print('%s is eating %s ...'%(self.name, food))\n",
        "\n",
        "  def sleep(self):\n",
        "    print('Zzz...Zzz...Zzz...')\n",
        "\n",
        "  def __think(self):\n",
        "    print('I feel myself a hero and every handsome !')\n",
        "\n",
        "  def speak(self, words = ''):\n",
        "    self.__think()\n",
        "    if(words):print(words)\n",
        "  \n"
      ],
      "execution_count": 0,
      "outputs": []
    },
    {
      "cell_type": "code",
      "metadata": {
        "id": "z9_BOkmLGH4B",
        "colab_type": "code",
        "colab": {
          "base_uri": "https://localhost:8080/",
          "height": 136
        },
        "outputId": "ca19af96-e7e7-4074-d78e-c38c08641196"
      },
      "source": [
        "snoopy = Dog('snoopy',3,'Husky',4)\n",
        "print('snoopy\\'s breed:', snoopy.breed)\n",
        "snoopy.run()\n",
        "snoopy.eat('Meat')\n",
        "snoopy.bark()\n",
        "snoopy.speak()\n",
        "snoopy.sleep()\n",
        "\n",
        "print(snoopy._Dog__age)"
      ],
      "execution_count": 134,
      "outputs": [
        {
          "output_type": "stream",
          "text": [
            "snoopy's breed: Husky\n",
            "snoopy is running ...\n",
            "snoopy is eating Meat ...\n",
            "Bowwow, Bowwow, Bowwow ...\n",
            "I feel myself a hero and every handsome !\n",
            "Zzz...Zzz...Zzz...\n",
            "4\n"
          ],
          "name": "stdout"
        }
      ]
    },
    {
      "cell_type": "markdown",
      "metadata": {
        "id": "9AW99IhYH1OR",
        "colab_type": "text"
      },
      "source": [
        "#### Get Object Information"
      ]
    },
    {
      "cell_type": "code",
      "metadata": {
        "id": "egLpwnVWG06I",
        "colab_type": "code",
        "colab": {
          "base_uri": "https://localhost:8080/",
          "height": 85
        },
        "outputId": "9112d06b-61b8-4af6-eae0-2a15cae005a0"
      },
      "source": [
        "#type\n",
        "print(type(1), type(False), type(1+2j), type(len))\n",
        "print(isinstance([1,2,3], list))\n",
        "print(isinstance(max, object))\n",
        "print(isinstance(123, (list,str, float)))"
      ],
      "execution_count": 135,
      "outputs": [
        {
          "output_type": "stream",
          "text": [
            "<class 'int'> <class 'bool'> <class 'complex'> <class 'builtin_function_or_method'>\n",
            "True\n",
            "True\n",
            "False\n"
          ],
          "name": "stdout"
        }
      ]
    },
    {
      "cell_type": "code",
      "metadata": {
        "id": "dpIl4OnjH_9j",
        "colab_type": "code",
        "colab": {
          "base_uri": "https://localhost:8080/",
          "height": 122
        },
        "outputId": "d1c54c9c-6a8c-4a77-92e4-7f09f88723ae"
      },
      "source": [
        "#dir\n",
        "print(dir(snoopy))\n",
        "\n",
        "# hasattr\n",
        "x = complex(2,3)\n",
        "print(hasattr(x,'real'), hasattr(x,'conjugate'), hasattr(x, '__sizeof__'))\n",
        "\n",
        "# getattr\n",
        "print(getattr(x, 'im', 'error'))\n",
        "print(getattr(x,'conjugate'))\n",
        "\n",
        "\n",
        "# setattr\n",
        "setattr(snoopy, 'home', 'India')\n",
        "print(snoopy.home)"
      ],
      "execution_count": 136,
      "outputs": [
        {
          "output_type": "stream",
          "text": [
            "['_Dog__age', '_Dog__think', '__class__', '__delattr__', '__dict__', '__dir__', '__doc__', '__eq__', '__format__', '__ge__', '__getattribute__', '__gt__', '__hash__', '__init__', '__init_subclass__', '__le__', '__lt__', '__module__', '__ne__', '__new__', '__reduce__', '__reduce_ex__', '__repr__', '__setattr__', '__sizeof__', '__str__', '__subclasshook__', '__weakref__', 'bark', 'breed', 'eat', 'name', 'run', 'sleep', 'speak', 'weight']\n",
            "True True True\n",
            "error\n",
            "<built-in method conjugate of complex object at 0x7f5b93c3c970>\n",
            "India\n"
          ],
          "name": "stdout"
        }
      ]
    }
  ]
}